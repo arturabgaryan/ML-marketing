{
 "cells": [
  {
   "cell_type": "code",
   "execution_count": null,
   "id": "7d9df7e2",
   "metadata": {},
   "outputs": [],
   "source": [
    "class HybridRecommender:\n",
    "    def __init__(self, movies_df, ratings_df):\n",
    "        self.movies_df = movies_df\n",
    "        self.ratings_df = ratings_df\n",
    "        self.movie_features = None\n",
    "        self.user_ratings = None\n",
    "        self.user_predictions = None\n",
    "        self.movie_predictions = None\n",
    "        self.hybrid_predictions = None\n",
    "\n",
    "    def preprocess_data(self):\n",
    "        self.movie_features = self.movies_df['genres'].str.get_dummies(sep='|')\n",
    "        self.user_ratings = self.ratings_df.pivot(index='userId', columns='movieId', values='rating')\n",
    "\n",
    "    def collaborative_filtering(self):\n",
    "        similar_users = cosine_similarity(self.user_ratings)\n",
    "        self.user_predictions = pd.DataFrame(similar_users.dot(self.user_ratings.fillna(0)), index=self.user_ratings.index, columns=self.user_ratings.columns)\n",
    "\n",
    "    def content_filtering(self):\n",
    "        cv = CountVectorizer()\n",
    "        movie_matrix = cv.fit_transform(self.movies_df['genres'])\n",
    "        movie_similarities = cosine_similarity(movie_matrix)\n",
    "        self.movie_predictions = pd.DataFrame(movie_similarities.dot(self.movie_features), index=self.movies_df.index, columns=self.movie_features.columns)\n",
    "\n",
    "    def hybrid_filtering(self):\n",
    "        self.hybrid_predictions = self.user_predictions.add(self.movie_predictions, fill_value=0)\n",
    "\n",
    "    def recommend_movies(self, user_id, num_recommendations=10):\n",
    "        user_ratings = self.ratings_df[self.ratings_df['userId'] == user_id]\n",
    "        user_ratings = user_ratings.set_index('movieId')\n",
    "        user_predictions = self.hybrid_predictions.loc[user_id].drop(user_ratings.index)\n",
    "        recommended_movies = user_predictions.sort_values(ascending=False).head(num_recommendations)\n",
    "        recommended_movies = recommended_movies.to_frame().reset_index()\n",
    "        recommended_movies = recommended_movies.merge(self.movies_df, on='movieId')[['movieId', 'title', 'genres']]\n",
    "        return recommended_movies\n",
    "\n",
    "# Пример использования класса\n",
    "movies_df = pd.read_csv('movies.csv')\n",
    "ratings_df = pd.read_csv('ratings.csv')\n",
    "recommender = HybridRecommender(movies_df, ratings_df)\n",
    "recommender.preprocess_data()\n",
    "recommender.collaborative_filtering()\n",
    "recommender.content_filtering()\n",
    "recommender.hybrid_filtering()\n",
    "recommended_movies = recommender.recommend_movies(user_id=1)\n",
    "print(recommended_movies)"
   ]
  }
 ],
 "metadata": {
  "kernelspec": {
   "display_name": "Python 3 (ipykernel)",
   "language": "python",
   "name": "python3"
  },
  "language_info": {
   "codemirror_mode": {
    "name": "ipython",
    "version": 3
   },
   "file_extension": ".py",
   "mimetype": "text/x-python",
   "name": "python",
   "nbconvert_exporter": "python",
   "pygments_lexer": "ipython3",
   "version": "3.8.10"
  }
 },
 "nbformat": 4,
 "nbformat_minor": 5
}
