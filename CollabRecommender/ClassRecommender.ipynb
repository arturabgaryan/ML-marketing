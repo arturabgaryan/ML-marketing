{
 "cells": [
  {
   "cell_type": "code",
   "execution_count": 5,
   "id": "215f716c",
   "metadata": {},
   "outputs": [],
   "source": [
    "from numpy import dot\n",
    "from numpy.linalg import norm\n",
    "import pandas as pd\n",
    "import numpy as np"
   ]
  },
  {
   "cell_type": "code",
   "execution_count": 6,
   "id": "95486b29",
   "metadata": {},
   "outputs": [],
   "source": [
    "merged = pd.read_pickle(\"../Data/merged.pkl\")"
   ]
  },
  {
   "cell_type": "code",
   "execution_count": 7,
   "id": "71c8ad9a",
   "metadata": {},
   "outputs": [],
   "source": [
    "data = pd.read_excel('../Data/ИтоговыеДанные.xlsx')"
   ]
  },
  {
   "cell_type": "code",
   "execution_count": 8,
   "id": "0d7bf972",
   "metadata": {},
   "outputs": [
    {
     "data": {
      "text/html": [
       "<div>\n",
       "<style scoped>\n",
       "    .dataframe tbody tr th:only-of-type {\n",
       "        vertical-align: middle;\n",
       "    }\n",
       "\n",
       "    .dataframe tbody tr th {\n",
       "        vertical-align: top;\n",
       "    }\n",
       "\n",
       "    .dataframe thead th {\n",
       "        text-align: right;\n",
       "    }\n",
       "</style>\n",
       "<table border=\"1\" class=\"dataframe\">\n",
       "  <thead>\n",
       "    <tr style=\"text-align: right;\">\n",
       "      <th></th>\n",
       "      <th>Unnamed: 0</th>\n",
       "      <th>Торговый день</th>\n",
       "      <th>ID Клиента</th>\n",
       "      <th>Регион проживания</th>\n",
       "      <th>МАГАЗИН</th>\n",
       "      <th>Тип карточки (B-VISA, S-MASTERCARD или МИР)</th>\n",
       "      <th>Сумма расходов</th>\n",
       "      <th>Предоставленная скидка</th>\n",
       "      <th>Возраст клиента</th>\n",
       "    </tr>\n",
       "  </thead>\n",
       "  <tbody>\n",
       "    <tr>\n",
       "      <th>0</th>\n",
       "      <td>0</td>\n",
       "      <td>2020-01-08</td>\n",
       "      <td>10221462</td>\n",
       "      <td>Московская область</td>\n",
       "      <td>Ресторан \"Буйвол\"</td>\n",
       "      <td>B</td>\n",
       "      <td>66816</td>\n",
       "      <td>11</td>\n",
       "      <td>31</td>\n",
       "    </tr>\n",
       "    <tr>\n",
       "      <th>1</th>\n",
       "      <td>1</td>\n",
       "      <td>2020-01-20</td>\n",
       "      <td>10220237</td>\n",
       "      <td>Красноярский край</td>\n",
       "      <td>Барбершоп</td>\n",
       "      <td>B</td>\n",
       "      <td>2538</td>\n",
       "      <td>9</td>\n",
       "      <td>33</td>\n",
       "    </tr>\n",
       "    <tr>\n",
       "      <th>2</th>\n",
       "      <td>2</td>\n",
       "      <td>2020-01-20</td>\n",
       "      <td>10215286</td>\n",
       "      <td>Московская область</td>\n",
       "      <td>Такси</td>\n",
       "      <td>B</td>\n",
       "      <td>6241</td>\n",
       "      <td>6</td>\n",
       "      <td>36</td>\n",
       "    </tr>\n",
       "    <tr>\n",
       "      <th>3</th>\n",
       "      <td>3</td>\n",
       "      <td>2020-01-20</td>\n",
       "      <td>10220237</td>\n",
       "      <td>Красноярский край</td>\n",
       "      <td>Бар \"Коктейль\"</td>\n",
       "      <td>B</td>\n",
       "      <td>2802</td>\n",
       "      <td>9</td>\n",
       "      <td>33</td>\n",
       "    </tr>\n",
       "    <tr>\n",
       "      <th>4</th>\n",
       "      <td>4</td>\n",
       "      <td>2020-01-24</td>\n",
       "      <td>11128769</td>\n",
       "      <td>г.Москва</td>\n",
       "      <td>Барбершоп</td>\n",
       "      <td>B</td>\n",
       "      <td>7227</td>\n",
       "      <td>18</td>\n",
       "      <td>24</td>\n",
       "    </tr>\n",
       "    <tr>\n",
       "      <th>...</th>\n",
       "      <td>...</td>\n",
       "      <td>...</td>\n",
       "      <td>...</td>\n",
       "      <td>...</td>\n",
       "      <td>...</td>\n",
       "      <td>...</td>\n",
       "      <td>...</td>\n",
       "      <td>...</td>\n",
       "      <td>...</td>\n",
       "    </tr>\n",
       "    <tr>\n",
       "      <th>67785</th>\n",
       "      <td>9860</td>\n",
       "      <td>2022-12-29</td>\n",
       "      <td>10723660</td>\n",
       "      <td>г.Москва</td>\n",
       "      <td>Барбершоп</td>\n",
       "      <td>B</td>\n",
       "      <td>163</td>\n",
       "      <td>7</td>\n",
       "      <td>35</td>\n",
       "    </tr>\n",
       "    <tr>\n",
       "      <th>67786</th>\n",
       "      <td>9861</td>\n",
       "      <td>2022-12-30</td>\n",
       "      <td>10724982</td>\n",
       "      <td>Челябинская область</td>\n",
       "      <td>Барбершоп</td>\n",
       "      <td>S</td>\n",
       "      <td>848</td>\n",
       "      <td>15</td>\n",
       "      <td>27</td>\n",
       "    </tr>\n",
       "    <tr>\n",
       "      <th>67787</th>\n",
       "      <td>9862</td>\n",
       "      <td>2022-12-30</td>\n",
       "      <td>10162467</td>\n",
       "      <td>Республика Северная Осетия-Алания</td>\n",
       "      <td>Барбершоп</td>\n",
       "      <td>S</td>\n",
       "      <td>12683</td>\n",
       "      <td>0</td>\n",
       "      <td>39</td>\n",
       "    </tr>\n",
       "    <tr>\n",
       "      <th>67788</th>\n",
       "      <td>9863</td>\n",
       "      <td>2022-12-30</td>\n",
       "      <td>11125776</td>\n",
       "      <td>г.Москва</td>\n",
       "      <td>Покупка техники</td>\n",
       "      <td>B</td>\n",
       "      <td>3554</td>\n",
       "      <td>20</td>\n",
       "      <td>22</td>\n",
       "    </tr>\n",
       "    <tr>\n",
       "      <th>67789</th>\n",
       "      <td>9864</td>\n",
       "      <td>2022-12-30</td>\n",
       "      <td>10830303</td>\n",
       "      <td>г.Санкт-Петербург</td>\n",
       "      <td>Ресторан \"Буйвол\"</td>\n",
       "      <td>B</td>\n",
       "      <td>3624</td>\n",
       "      <td>18</td>\n",
       "      <td>24</td>\n",
       "    </tr>\n",
       "  </tbody>\n",
       "</table>\n",
       "<p>67790 rows × 9 columns</p>\n",
       "</div>"
      ],
      "text/plain": [
       "       Unnamed: 0 Торговый день  ID Клиента  \\\n",
       "0               0    2020-01-08    10221462   \n",
       "1               1    2020-01-20    10220237   \n",
       "2               2    2020-01-20    10215286   \n",
       "3               3    2020-01-20    10220237   \n",
       "4               4    2020-01-24    11128769   \n",
       "...           ...           ...         ...   \n",
       "67785        9860    2022-12-29    10723660   \n",
       "67786        9861    2022-12-30    10724982   \n",
       "67787        9862    2022-12-30    10162467   \n",
       "67788        9863    2022-12-30    11125776   \n",
       "67789        9864    2022-12-30    10830303   \n",
       "\n",
       "                       Регион проживания            МАГАЗИН  \\\n",
       "0                     Московская область  Ресторан \"Буйвол\"   \n",
       "1                      Красноярский край          Барбершоп   \n",
       "2                     Московская область              Такси   \n",
       "3                      Красноярский край     Бар \"Коктейль\"   \n",
       "4                               г.Москва          Барбершоп   \n",
       "...                                  ...                ...   \n",
       "67785                           г.Москва          Барбершоп   \n",
       "67786                Челябинская область          Барбершоп   \n",
       "67787  Республика Северная Осетия-Алания          Барбершоп   \n",
       "67788                           г.Москва    Покупка техники   \n",
       "67789                  г.Санкт-Петербург  Ресторан \"Буйвол\"   \n",
       "\n",
       "      Тип карточки (B-VISA, S-MASTERCARD или МИР)  Сумма расходов  \\\n",
       "0                                               B           66816   \n",
       "1                                               B            2538   \n",
       "2                                               B            6241   \n",
       "3                                               B            2802   \n",
       "4                                               B            7227   \n",
       "...                                           ...             ...   \n",
       "67785                                           B             163   \n",
       "67786                                           S             848   \n",
       "67787                                           S           12683   \n",
       "67788                                           B            3554   \n",
       "67789                                           B            3624   \n",
       "\n",
       "       Предоставленная скидка  Возраст клиента  \n",
       "0                          11               31  \n",
       "1                           9               33  \n",
       "2                           6               36  \n",
       "3                           9               33  \n",
       "4                          18               24  \n",
       "...                       ...              ...  \n",
       "67785                       7               35  \n",
       "67786                      15               27  \n",
       "67787                       0               39  \n",
       "67788                      20               22  \n",
       "67789                      18               24  \n",
       "\n",
       "[67790 rows x 9 columns]"
      ]
     },
     "execution_count": 8,
     "metadata": {},
     "output_type": "execute_result"
    }
   ],
   "source": [
    "data"
   ]
  },
  {
   "cell_type": "markdown",
   "id": "64ac3c49",
   "metadata": {},
   "source": [
    "  "
   ]
  },
  {
   "cell_type": "markdown",
   "id": "7ecf9cda",
   "metadata": {},
   "source": [
    "##  Select the Target Group\n",
    "\n",
    "#### Which sector would you like to improve?\n",
    "By choosing, for example, the Gastronomic sector, you select a group of customers who show high attendance and spendings, having a discount above 15%.\n",
    "Further, the recommender system looks for similar customers who can be offered discounts for the selected sector and the indicators will increase."
   ]
  },
  {
   "cell_type": "code",
   "execution_count": 38,
   "id": "6eb3cc01",
   "metadata": {},
   "outputs": [],
   "source": [
    "# # Attendance\n",
    "# ideals = [list(map(float,merged.loc[i].to_numpy(dtype=float))) for i in \n",
    "#          [11018820, 11127430, 11259771, 11260095]]"
   ]
  },
  {
   "cell_type": "code",
   "execution_count": 33,
   "id": "ac55436b",
   "metadata": {},
   "outputs": [],
   "source": [
    "# # Spendings\n",
    "# ideals = [list(map(float,merged.loc[i].to_numpy(dtype=float))) for i in \n",
    "#           [10574034, 11018820, 11127430, 11259771, 11260095]]"
   ]
  },
  {
   "cell_type": "code",
   "execution_count": 14,
   "id": "0ca53bf4",
   "metadata": {},
   "outputs": [],
   "source": [
    "# # Sector: Gastronomic\n",
    "# ideals = [list(map(float,merged.loc[i].to_numpy(dtype=float))) for i in \n",
    "#           [11127430, 10355641, 11259771, 11018820, 11260095, 10356174]]"
   ]
  },
  {
   "cell_type": "code",
   "execution_count": 28,
   "id": "881046bb",
   "metadata": {},
   "outputs": [],
   "source": [
    "# # Sector: Tourism\n",
    "# ideals = [list(map(float,merged.loc[i].to_numpy(dtype=float))) for i in \n",
    "#           [11127430, 10355641, 10562323, 11259771, 11018820, 11260095]]"
   ]
  },
  {
   "cell_type": "code",
   "execution_count": 43,
   "id": "cb2a68a1",
   "metadata": {},
   "outputs": [],
   "source": [
    "# # Sector: Shopping\n",
    "# ideals = [list(map(float,merged.loc[i].to_numpy(dtype=float))) for i in \n",
    "#     [11127430, 10355641, 11259771, 11018820, 10359664, 10409000, 10830303, 10216655, 10201728]]"
   ]
  },
  {
   "cell_type": "code",
   "execution_count": 48,
   "id": "d91f0c77",
   "metadata": {},
   "outputs": [],
   "source": [
    "# # Sector: Auto\n",
    "# ideals = [list(map(float,merged.loc[i].to_numpy(dtype=float))) for i in \n",
    "#           [11127430, 10355641, 11128132, 11259771, 11018820, 10830303]]"
   ]
  },
  {
   "cell_type": "code",
   "execution_count": 53,
   "id": "c24fb45f",
   "metadata": {},
   "outputs": [],
   "source": [
    "# # Sector: Beauty\n",
    "# ideals = [list(map(float,merged.loc[i].to_numpy(dtype=float))) for i in \n",
    "#           [11127430, 10355641, 10574034, 11259771, 11018820, 10358256]]"
   ]
  },
  {
   "cell_type": "code",
   "execution_count": 58,
   "id": "eae6392b",
   "metadata": {},
   "outputs": [],
   "source": [
    "# Sector: Other\n",
    "ideals = [list(map(float,merged.loc[i].to_numpy(dtype=float))) for i in \n",
    "          [11127430, 10355641, 11259771, 11018820, 10356174]]"
   ]
  },
  {
   "cell_type": "code",
   "execution_count": 20,
   "id": "1e82cb8b",
   "metadata": {},
   "outputs": [],
   "source": [
    "merge_vec = list(map(list,merged.to_numpy(dtype=float)))"
   ]
  },
  {
   "cell_type": "code",
   "execution_count": 21,
   "id": "9a08c6c1",
   "metadata": {},
   "outputs": [],
   "source": [
    "clients = {key:val for val,key in zip(merge_vec,merged.index.values.tolist())}"
   ]
  },
  {
   "cell_type": "code",
   "execution_count": 59,
   "id": "7d9df7e2",
   "metadata": {},
   "outputs": [],
   "source": [
    "class Recommender:\n",
    "    def __init__(self, ideal):\n",
    "        self.clients_vector = None\n",
    "        self.ideal_clients = ideal\n",
    "          \n",
    "    def cos_sim(self,a,b):\n",
    "        similarity = dot(a, b)/(norm(a)*norm(b))\n",
    "        return similarity\n",
    "    \n",
    "    def collaborative_filtering(self,user):\n",
    "        count = 0\n",
    "        for i in self.ideal_clients:\n",
    "            similarity = self.cos_sim(i,user)\n",
    "            if 0.9 <= similarity < 1:\n",
    "                count += 1\n",
    "        return count >= 2\n",
    "\n",
    "    def recommend_clients(self, clients):\n",
    "        valid_clients = []\n",
    "        for client_id, client in clients.items():\n",
    "            if self.collaborative_filtering(client):\n",
    "                valid_clients.append(client_id)\n",
    "        return valid_clients\n",
    "\n"
   ]
  },
  {
   "cell_type": "code",
   "execution_count": 60,
   "id": "61fcee0b",
   "metadata": {},
   "outputs": [],
   "source": [
    "recommender = Recommender(ideals)\n",
    "Clients = recommender.recommend_clients(clients)"
   ]
  },
  {
   "cell_type": "markdown",
   "id": "0505d645",
   "metadata": {},
   "source": [
    "### The recommender system brought out the customers most susceptible to take advantage of the proposed large discount, thereby increasing the attendance and revenue indicators for the selected sector."
   ]
  },
  {
   "cell_type": "code",
   "execution_count": 61,
   "id": "24d83ec5",
   "metadata": {},
   "outputs": [
    {
     "name": "stdout",
     "output_type": "stream",
     "text": [
      "21\n"
     ]
    },
    {
     "data": {
      "text/plain": [
       "[10216816,\n",
       " 10217384,\n",
       " 10218209,\n",
       " 10218864,\n",
       " 10219380,\n",
       " 10354725,\n",
       " 10355392,\n",
       " 10361741,\n",
       " 10402701,\n",
       " 10404735,\n",
       " 10574677,\n",
       " 10583558,\n",
       " 10837991,\n",
       " 11008961,\n",
       " 11011968,\n",
       " 11012574,\n",
       " 11018939,\n",
       " 11135326,\n",
       " 11257217,\n",
       " 11259088,\n",
       " 11259804]"
      ]
     },
     "execution_count": 61,
     "metadata": {},
     "output_type": "execute_result"
    }
   ],
   "source": [
    "print(len(Clients))\n",
    "Clients"
   ]
  },
  {
   "cell_type": "code",
   "execution_count": 25,
   "id": "cf69fb82",
   "metadata": {},
   "outputs": [
    {
     "data": {
      "text/plain": [
       "Автотранспорт                 0.000000\n",
       "Алкогольный магазин          85.000000\n",
       "Бар \"Иной\"                    0.000000\n",
       "Бар \"Коктейль\"              183.000000\n",
       "Барбершоп                   295.000000\n",
       "Не определено               125.000000\n",
       "Перевод денег на депозит      0.000000\n",
       "Покупка одежды               24.000000\n",
       "Покупка техники              40.000000\n",
       "Покупки Ozon                 26.000000\n",
       "Ресторан \"Буйвол\"           169.000000\n",
       "Салон красоты                 0.000000\n",
       "Такси                        76.000000\n",
       "Турагенство                  83.000000\n",
       "Сумма расходов               -0.261918\n",
       "Name: 10216816, dtype: float64"
      ]
     },
     "execution_count": 25,
     "metadata": {},
     "output_type": "execute_result"
    }
   ],
   "source": [
    "# Check the client attendance\n",
    "merged.loc[10216816]"
   ]
  },
  {
   "cell_type": "code",
   "execution_count": 62,
   "id": "1d729fde",
   "metadata": {},
   "outputs": [
    {
     "name": "stdout",
     "output_type": "stream",
     "text": [
      "<br> ID:  10216816 | Age:  32 | Region:  Белгородская область | Current Discount:  10 <br>\n",
      "<br> ID:  10217384 | Age:  41 | Region:  Пензенская область | Current Discount:  0 <br>\n",
      "<br> ID:  10218209 | Age:  28 | Region:  Томская область | Current Discount:  14 <br>\n",
      "<br> ID:  10218864 | Age:  35 | Region:  г.Санкт-Петербург | Current Discount:  7 <br>\n",
      "<br> ID:  10219380 | Age:  39 | Region:  Калининградская область | Current Discount:  0 <br>\n",
      "<br> ID:  10354725 | Age:  37 | Region:  Челябинская область | Current Discount:  5 <br>\n",
      "<br> ID:  10355392 | Age:  39 | Region:  Республика Башкортостан | Current Discount:  0 <br>\n",
      "<br> ID:  10361741 | Age:  20 | Region:  Алтайский край | Current Discount:  22 <br>\n",
      "<br> ID:  10402701 | Age:  34 | Region:  Московская область | Current Discount:  8 <br>\n",
      "<br> ID:  10404735 | Age:  34 | Region:  Волгоградская область | Current Discount:  8 <br>\n",
      "<br> ID:  10574677 | Age:  28 | Region:  Челябинская область | Current Discount:  14 <br>\n",
      "<br> ID:  10583558 | Age:  39 | Region:  Омская область | Current Discount:  0 <br>\n",
      "<br> ID:  10837991 | Age:  33 | Region:  г.Москва | Current Discount:  9 <br>\n",
      "<br> ID:  11008961 | Age:  34 | Region:  Ростовская область | Current Discount:  8 <br>\n",
      "<br> ID:  11011968 | Age:  37 | Region:  Ростовская область | Current Discount:  5 <br>\n",
      "<br> ID:  11012574 | Age:  32 | Region:  Тюменская область | Current Discount:  10 <br>\n",
      "<br> ID:  11018939 | Age:  34 | Region:  Томская область | Current Discount:  8 <br>\n",
      "<br> ID:  11135326 | Age:  38 | Region:  Владимирская область | Current Discount:  0 <br>\n",
      "<br> ID:  11257217 | Age:  40 | Region:  Красноярский край | Current Discount:  0 <br>\n",
      "<br> ID:  11259088 | Age:  24 | Region:  Хабаровский край | Current Discount:  18 <br>\n",
      "<br> ID:  11259804 | Age:  32 | Region:  г.Москва | Current Discount:  10 <br>\n"
     ]
    }
   ],
   "source": [
    "for i in Clients:\n",
    "    print('<br> ID: ',i,'|', 'Age: ', data[data['ID Клиента'] == i]['Возраст клиента'].unique()[0],\n",
    "         '|','Region: ', data[data['ID Клиента'] == i]['Регион проживания'].unique()[0],\n",
    "         '|','Current Discount: ', data[data['ID Клиента'] == i]['Предоставленная скидка'].unique()[0],'<br>')"
   ]
  },
  {
   "cell_type": "code",
   "execution_count": null,
   "id": "484a9b52",
   "metadata": {},
   "outputs": [],
   "source": []
  }
 ],
 "metadata": {
  "kernelspec": {
   "display_name": "Python 3 (ipykernel)",
   "language": "python",
   "name": "python3"
  },
  "language_info": {
   "codemirror_mode": {
    "name": "ipython",
    "version": 3
   },
   "file_extension": ".py",
   "mimetype": "text/x-python",
   "name": "python",
   "nbconvert_exporter": "python",
   "pygments_lexer": "ipython3",
   "version": "3.9.5"
  }
 },
 "nbformat": 4,
 "nbformat_minor": 5
}
