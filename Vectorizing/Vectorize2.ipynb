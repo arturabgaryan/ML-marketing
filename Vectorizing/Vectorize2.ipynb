{
 "cells": [
  {
   "cell_type": "code",
   "execution_count": 2,
   "id": "7b12facb",
   "metadata": {},
   "outputs": [],
   "source": [
    "%matplotlib inline\n",
    "import pandas as pd\n",
    "import matplotlib.pyplot as plt\n",
    "import numpy as np"
   ]
  },
  {
   "cell_type": "code",
   "execution_count": 3,
   "id": "fa9d7b1e",
   "metadata": {},
   "outputs": [],
   "source": [
    "# data2020 = pd.read_excel('../Data/Датасет 2020.xlsx').drop(['Год выдачи паспорта'],axis = 1)\n",
    "# data2021 = pd.read_excel('../Data/Датасет 2021.xlsx').drop(['Год выдачи паспорта'],axis = 1)\n",
    "# data2022 = pd.read_excel('../Data/Датасет 2022.xlsx').drop(['Год выдачи паспорта'],axis = 1)\n",
    "data = pd.read_excel('../Data/ИтоговыеДанные.xlsx')"
   ]
  },
  {
   "cell_type": "code",
   "execution_count": 5,
   "id": "e5d21f1b",
   "metadata": {},
   "outputs": [
    {
     "data": {
      "text/plain": [
       "array(['Ресторан \"Буйвол\"', 'Барбершоп', 'Такси', 'Бар \"Коктейль\"',\n",
       "       'Покупки Ozon', 'Покупка одежды', 'Турагенство',\n",
       "       'Алкогольный магазин', 'Не определено', 'Автотранспорт',\n",
       "       'Покупка техники', 'Бар \"Иной\"', 'Салон красоты',\n",
       "       'Перевод денег на депозит'], dtype=object)"
      ]
     },
     "execution_count": 5,
     "metadata": {},
     "output_type": "execute_result"
    }
   ],
   "source": [
    "data['МАГАЗИН'].unique()"
   ]
  },
  {
   "cell_type": "code",
   "execution_count": 6,
   "id": "5c81a621",
   "metadata": {},
   "outputs": [],
   "source": [
    "visits_per_store = data.groupby(['ID Клиента', 'МАГАЗИН']).size().unstack(fill_value=0)\n",
    "client_visit_vector = visits_per_store.to_numpy()\n",
    "total_spending_per_client = data.groupby('ID Клиента')['Сумма расходов'].mean().apply(round)"
   ]
  },
  {
   "cell_type": "code",
   "execution_count": 7,
   "id": "0d0c6ffc",
   "metadata": {},
   "outputs": [],
   "source": [
    "total_spending_per_client = (total_spending_per_client - total_spending_per_client.mean())/total_spending_per_client.std()"
   ]
  },
  {
   "cell_type": "code",
   "execution_count": 8,
   "id": "3ecebbd8",
   "metadata": {},
   "outputs": [],
   "source": [
    "merged = pd.concat([visits_per_store,total_spending_per_client],axis=1)"
   ]
  },
  {
   "cell_type": "code",
   "execution_count": 12,
   "id": "2011e70a",
   "metadata": {},
   "outputs": [
    {
     "data": {
      "text/plain": [
       "Автотранспорт                2.000000\n",
       "Алкогольный магазин          8.000000\n",
       "Бар \"Иной\"                   0.000000\n",
       "Бар \"Коктейль\"              48.000000\n",
       "Барбершоп                   68.000000\n",
       "Не определено               34.000000\n",
       "Перевод денег на депозит     2.000000\n",
       "Покупка одежды               6.000000\n",
       "Покупка техники              9.000000\n",
       "Покупки Ozon                 9.000000\n",
       "Ресторан \"Буйвол\"           31.000000\n",
       "Салон красоты                8.000000\n",
       "Такси                       10.000000\n",
       "Турагенство                 28.000000\n",
       "Сумма расходов              -0.258029\n",
       "Name: 10361741, dtype: float64"
      ]
     },
     "execution_count": 12,
     "metadata": {},
     "output_type": "execute_result"
    }
   ],
   "source": [
    "merged.loc[10361741]"
   ]
  },
  {
   "cell_type": "code",
   "execution_count": 15,
   "id": "e99aa485",
   "metadata": {},
   "outputs": [],
   "source": [
    "merge_vec = list(map(list,merged.to_numpy(dtype=float)))"
   ]
  },
  {
   "cell_type": "code",
   "execution_count": 20,
   "id": "d3f19de1",
   "metadata": {},
   "outputs": [],
   "source": [
    "merged.to_pickle(\"../Data/merged.pkl\")"
   ]
  },
  {
   "cell_type": "code",
   "execution_count": null,
   "id": "b95d6515",
   "metadata": {},
   "outputs": [],
   "source": []
  }
 ],
 "metadata": {
  "kernelspec": {
   "display_name": "Python 3 (ipykernel)",
   "language": "python",
   "name": "python3"
  },
  "language_info": {
   "codemirror_mode": {
    "name": "ipython",
    "version": 3
   },
   "file_extension": ".py",
   "mimetype": "text/x-python",
   "name": "python",
   "nbconvert_exporter": "python",
   "pygments_lexer": "ipython3",
   "version": "3.8.10"
  }
 },
 "nbformat": 4,
 "nbformat_minor": 5
}
